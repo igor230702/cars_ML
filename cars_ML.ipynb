{
  "nbformat": 4,
  "nbformat_minor": 0,
  "metadata": {
    "colab": {
      "provenance": []
    },
    "kernelspec": {
      "name": "python3",
      "display_name": "Python 3"
    },
    "language_info": {
      "name": "python"
    },
    "accelerator": "GPU",
    "gpuClass": "standard"
  },
  "cells": [
    {
      "cell_type": "code",
      "execution_count": 4,
      "metadata": {
        "id": "zBYi9JeHw0ko"
      },
      "outputs": [],
      "source": [
        "import pandas as pd\n",
        "import numpy as np\n",
        "from matplotlib import pyplot as plt\n",
        "import seaborn as sns"
      ]
    },
    {
      "cell_type": "markdown",
      "source": [
        "# Обработка данных"
      ],
      "metadata": {
        "id": "5JADYyGGam_o"
      }
    },
    {
      "cell_type": "markdown",
      "source": [
        "Посмотрим на данные, которые мы спарсили:"
      ],
      "metadata": {
        "id": "C3ryxr1tL8be"
      }
    },
    {
      "cell_type": "code",
      "source": [
        "data = pd.read_csv('car_data.csv', sep=';')\n",
        "data.head()"
      ],
      "metadata": {
        "colab": {
          "base_uri": "https://localhost:8080/",
          "height": 250
        },
        "id": "WzchrgFxw-Zo",
        "outputId": "d33ef172-f5d6-433b-8956-b7cce78b6414"
      },
      "execution_count": 5,
      "outputs": [
        {
          "output_type": "execute_result",
          "data": {
            "text/plain": [
              "   engine  power transmission drive_unit body_type         color   mileage  \\\n",
              "0     1.6  102.0     механика  передний       NaN  серебристый  145000.0   \n",
              "1     2.0  184.0         АКПП        4WD      купе       черный  123000.0   \n",
              "2     1.5  131.0     вариатор  передний       NaN       черный   20000.0   \n",
              "3     1.2   79.0         АКПП  передний       NaN        серый  100000.0   \n",
              "4     2.2  200.0         АКПП        4WD       NaN        серый    3100.0   \n",
              "\n",
              "  steering_wheel  gen                         equipment      price  \n",
              "0         левый  2.0          1.6 MT Stepway Privilege   860000.0  \n",
              "1         левый  5.0                E 200 4MATIC Sport  3900000.0  \n",
              "2        правый  1.0              1.5 RS Honda Sensing  1620000.0  \n",
              "3        правый  2.0                     1.2 e-POWER X   995000.0  \n",
              "4         левый  1.0  2.2 CRDi AT 4WD High-Tech 7 мест  5150000.0  "
            ],
            "text/html": [
              "\n",
              "  <div id=\"df-87ca114a-a40f-4a94-9d3d-71603ac54a10\">\n",
              "    <div class=\"colab-df-container\">\n",
              "      <div>\n",
              "<style scoped>\n",
              "    .dataframe tbody tr th:only-of-type {\n",
              "        vertical-align: middle;\n",
              "    }\n",
              "\n",
              "    .dataframe tbody tr th {\n",
              "        vertical-align: top;\n",
              "    }\n",
              "\n",
              "    .dataframe thead th {\n",
              "        text-align: right;\n",
              "    }\n",
              "</style>\n",
              "<table border=\"1\" class=\"dataframe\">\n",
              "  <thead>\n",
              "    <tr style=\"text-align: right;\">\n",
              "      <th></th>\n",
              "      <th>engine</th>\n",
              "      <th>power</th>\n",
              "      <th>transmission</th>\n",
              "      <th>drive_unit</th>\n",
              "      <th>body_type</th>\n",
              "      <th>color</th>\n",
              "      <th>mileage</th>\n",
              "      <th>steering_wheel</th>\n",
              "      <th>gen</th>\n",
              "      <th>equipment</th>\n",
              "      <th>price</th>\n",
              "    </tr>\n",
              "  </thead>\n",
              "  <tbody>\n",
              "    <tr>\n",
              "      <th>0</th>\n",
              "      <td>1.6</td>\n",
              "      <td>102.0</td>\n",
              "      <td>механика</td>\n",
              "      <td>передний</td>\n",
              "      <td>NaN</td>\n",
              "      <td>серебристый</td>\n",
              "      <td>145000.0</td>\n",
              "      <td>левый</td>\n",
              "      <td>2.0</td>\n",
              "      <td>1.6 MT Stepway Privilege</td>\n",
              "      <td>860000.0</td>\n",
              "    </tr>\n",
              "    <tr>\n",
              "      <th>1</th>\n",
              "      <td>2.0</td>\n",
              "      <td>184.0</td>\n",
              "      <td>АКПП</td>\n",
              "      <td>4WD</td>\n",
              "      <td>купе</td>\n",
              "      <td>черный</td>\n",
              "      <td>123000.0</td>\n",
              "      <td>левый</td>\n",
              "      <td>5.0</td>\n",
              "      <td>E 200 4MATIC Sport</td>\n",
              "      <td>3900000.0</td>\n",
              "    </tr>\n",
              "    <tr>\n",
              "      <th>2</th>\n",
              "      <td>1.5</td>\n",
              "      <td>131.0</td>\n",
              "      <td>вариатор</td>\n",
              "      <td>передний</td>\n",
              "      <td>NaN</td>\n",
              "      <td>черный</td>\n",
              "      <td>20000.0</td>\n",
              "      <td>правый</td>\n",
              "      <td>1.0</td>\n",
              "      <td>1.5 RS Honda Sensing</td>\n",
              "      <td>1620000.0</td>\n",
              "    </tr>\n",
              "    <tr>\n",
              "      <th>3</th>\n",
              "      <td>1.2</td>\n",
              "      <td>79.0</td>\n",
              "      <td>АКПП</td>\n",
              "      <td>передний</td>\n",
              "      <td>NaN</td>\n",
              "      <td>серый</td>\n",
              "      <td>100000.0</td>\n",
              "      <td>правый</td>\n",
              "      <td>2.0</td>\n",
              "      <td>1.2 e-POWER X</td>\n",
              "      <td>995000.0</td>\n",
              "    </tr>\n",
              "    <tr>\n",
              "      <th>4</th>\n",
              "      <td>2.2</td>\n",
              "      <td>200.0</td>\n",
              "      <td>АКПП</td>\n",
              "      <td>4WD</td>\n",
              "      <td>NaN</td>\n",
              "      <td>серый</td>\n",
              "      <td>3100.0</td>\n",
              "      <td>левый</td>\n",
              "      <td>1.0</td>\n",
              "      <td>2.2 CRDi AT 4WD High-Tech 7 мест</td>\n",
              "      <td>5150000.0</td>\n",
              "    </tr>\n",
              "  </tbody>\n",
              "</table>\n",
              "</div>\n",
              "      <button class=\"colab-df-convert\" onclick=\"convertToInteractive('df-87ca114a-a40f-4a94-9d3d-71603ac54a10')\"\n",
              "              title=\"Convert this dataframe to an interactive table.\"\n",
              "              style=\"display:none;\">\n",
              "        \n",
              "  <svg xmlns=\"http://www.w3.org/2000/svg\" height=\"24px\"viewBox=\"0 0 24 24\"\n",
              "       width=\"24px\">\n",
              "    <path d=\"M0 0h24v24H0V0z\" fill=\"none\"/>\n",
              "    <path d=\"M18.56 5.44l.94 2.06.94-2.06 2.06-.94-2.06-.94-.94-2.06-.94 2.06-2.06.94zm-11 1L8.5 8.5l.94-2.06 2.06-.94-2.06-.94L8.5 2.5l-.94 2.06-2.06.94zm10 10l.94 2.06.94-2.06 2.06-.94-2.06-.94-.94-2.06-.94 2.06-2.06.94z\"/><path d=\"M17.41 7.96l-1.37-1.37c-.4-.4-.92-.59-1.43-.59-.52 0-1.04.2-1.43.59L10.3 9.45l-7.72 7.72c-.78.78-.78 2.05 0 2.83L4 21.41c.39.39.9.59 1.41.59.51 0 1.02-.2 1.41-.59l7.78-7.78 2.81-2.81c.8-.78.8-2.07 0-2.86zM5.41 20L4 18.59l7.72-7.72 1.47 1.35L5.41 20z\"/>\n",
              "  </svg>\n",
              "      </button>\n",
              "      \n",
              "  <style>\n",
              "    .colab-df-container {\n",
              "      display:flex;\n",
              "      flex-wrap:wrap;\n",
              "      gap: 12px;\n",
              "    }\n",
              "\n",
              "    .colab-df-convert {\n",
              "      background-color: #E8F0FE;\n",
              "      border: none;\n",
              "      border-radius: 50%;\n",
              "      cursor: pointer;\n",
              "      display: none;\n",
              "      fill: #1967D2;\n",
              "      height: 32px;\n",
              "      padding: 0 0 0 0;\n",
              "      width: 32px;\n",
              "    }\n",
              "\n",
              "    .colab-df-convert:hover {\n",
              "      background-color: #E2EBFA;\n",
              "      box-shadow: 0px 1px 2px rgba(60, 64, 67, 0.3), 0px 1px 3px 1px rgba(60, 64, 67, 0.15);\n",
              "      fill: #174EA6;\n",
              "    }\n",
              "\n",
              "    [theme=dark] .colab-df-convert {\n",
              "      background-color: #3B4455;\n",
              "      fill: #D2E3FC;\n",
              "    }\n",
              "\n",
              "    [theme=dark] .colab-df-convert:hover {\n",
              "      background-color: #434B5C;\n",
              "      box-shadow: 0px 1px 3px 1px rgba(0, 0, 0, 0.15);\n",
              "      filter: drop-shadow(0px 1px 2px rgba(0, 0, 0, 0.3));\n",
              "      fill: #FFFFFF;\n",
              "    }\n",
              "  </style>\n",
              "\n",
              "      <script>\n",
              "        const buttonEl =\n",
              "          document.querySelector('#df-87ca114a-a40f-4a94-9d3d-71603ac54a10 button.colab-df-convert');\n",
              "        buttonEl.style.display =\n",
              "          google.colab.kernel.accessAllowed ? 'block' : 'none';\n",
              "\n",
              "        async function convertToInteractive(key) {\n",
              "          const element = document.querySelector('#df-87ca114a-a40f-4a94-9d3d-71603ac54a10');\n",
              "          const dataTable =\n",
              "            await google.colab.kernel.invokeFunction('convertToInteractive',\n",
              "                                                     [key], {});\n",
              "          if (!dataTable) return;\n",
              "\n",
              "          const docLinkHtml = 'Like what you see? Visit the ' +\n",
              "            '<a target=\"_blank\" href=https://colab.research.google.com/notebooks/data_table.ipynb>data table notebook</a>'\n",
              "            + ' to learn more about interactive tables.';\n",
              "          element.innerHTML = '';\n",
              "          dataTable['output_type'] = 'display_data';\n",
              "          await google.colab.output.renderOutput(dataTable, element);\n",
              "          const docLink = document.createElement('div');\n",
              "          docLink.innerHTML = docLinkHtml;\n",
              "          element.appendChild(docLink);\n",
              "        }\n",
              "      </script>\n",
              "    </div>\n",
              "  </div>\n",
              "  "
            ]
          },
          "metadata": {},
          "execution_count": 5
        }
      ]
    },
    {
      "cell_type": "markdown",
      "source": [
        "Имеем следующие фичи:\n",
        "\n",
        "\n",
        "*   engine: объём двигателя\n",
        "*   power: мощность в л. с.\n",
        "*   transmission: тип коробки передач\n",
        "*   drive_unit: тип привода\n",
        "*   body_type: тип кузова\n",
        "*   color: цвет\n",
        "*   mileage: пробег\n",
        "*   steering_wheel: руль (с какой стороны он находится)\n",
        "*   gen: поколение автомобиля\n",
        "*   equipment: комплектация\n",
        "*   price: цена автомобиля и по совместительству наша целевая переменная\n",
        "\n"
      ],
      "metadata": {
        "id": "cBdE2W9TMJdc"
      }
    },
    {
      "cell_type": "markdown",
      "source": [
        "Посмотрим, сколько пропусков в данных:"
      ],
      "metadata": {
        "id": "HWjgf4qLQNS7"
      }
    },
    {
      "cell_type": "code",
      "source": [
        "data.info()"
      ],
      "metadata": {
        "colab": {
          "base_uri": "https://localhost:8080/"
        },
        "id": "70KoFkB7xMst",
        "outputId": "b6d74159-b9de-434c-c692-e6ed4f34c648"
      },
      "execution_count": 6,
      "outputs": [
        {
          "output_type": "stream",
          "name": "stdout",
          "text": [
            "<class 'pandas.core.frame.DataFrame'>\n",
            "RangeIndex: 2000 entries, 0 to 1999\n",
            "Data columns (total 11 columns):\n",
            " #   Column          Non-Null Count  Dtype  \n",
            "---  ------          --------------  -----  \n",
            " 0   engine          1989 non-null   float64\n",
            " 1   power           1990 non-null   float64\n",
            " 2   transmission    1997 non-null   object \n",
            " 3   drive_unit      1995 non-null   object \n",
            " 4   body_type       877 non-null    object \n",
            " 5   color           1934 non-null   object \n",
            " 6   mileage         1796 non-null   float64\n",
            " 7   steering_wheel  1948 non-null   object \n",
            " 8   gen             1960 non-null   float64\n",
            " 9   equipment       1284 non-null   object \n",
            " 10  price           2000 non-null   float64\n",
            "dtypes: float64(5), object(6)\n",
            "memory usage: 172.0+ KB\n"
          ]
        }
      ]
    },
    {
      "cell_type": "markdown",
      "source": [
        "Видим, что записей в body_type меньше половины. Пока откинем этот признак - **позже надо придумать что-нибудь более умное**"
      ],
      "metadata": {
        "id": "Y7w5dojjZO-Y"
      }
    },
    {
      "cell_type": "markdown",
      "source": [
        "Определим числовые и категориальные фичи:"
      ],
      "metadata": {
        "id": "uB80IKZ8OKaA"
      }
    },
    {
      "cell_type": "code",
      "source": [
        "num_cols = ['engine',\n",
        "            'power',\n",
        "            'mileage',\n",
        "            'gen']\n",
        "\n",
        "cat_cols = ['transmission',\n",
        "            'drive_unit',\n",
        "            # 'body_type',\n",
        "            'color',\n",
        "            'steering_wheel',\n",
        "            'equipment']\n",
        "\n",
        "target = 'price'"
      ],
      "metadata": {
        "id": "46cv8f50xy6P"
      },
      "execution_count": 7,
      "outputs": []
    },
    {
      "cell_type": "markdown",
      "source": [
        "Посмотрим на значения категориальных признаков:"
      ],
      "metadata": {
        "id": "Zfla6zVhSNq3"
      }
    },
    {
      "cell_type": "code",
      "source": [
        "for col in cat_cols:\n",
        "    print(data[col].value_counts(), '\\n')"
      ],
      "metadata": {
        "colab": {
          "base_uri": "https://localhost:8080/"
        },
        "id": "GbXXKgvsxip-",
        "outputId": "da733cd6-b0ab-479d-fbc4-262c96efbc4e"
      },
      "execution_count": 8,
      "outputs": [
        {
          "output_type": "stream",
          "name": "stdout",
          "text": [
            "АКПП        882\n",
            "вариатор    565\n",
            "механика    394\n",
            "робот       106\n",
            "автомат      50\n",
            "Name: transmission, dtype: int64 \n",
            "\n",
            "передний    1212\n",
            "4WD           653\n",
            "задний       130\n",
            "Name: drive_unit, dtype: int64 \n",
            "\n",
            "белый          525\n",
            "черный         411\n",
            "серый          327\n",
            "серебристый    193\n",
            "синий          155\n",
            "зеленый         60\n",
            "красный         59\n",
            "коричневый      56\n",
            "бордовый        45\n",
            "бежевый         34\n",
            "оранжевый       23\n",
            "голубой         19\n",
            "фиолетовый      16\n",
            "золотистый       6\n",
            "желтый           5\n",
            "Name: color, dtype: int64 \n",
            "\n",
            "левый     1205\n",
            "правый     743\n",
            "Name: steering_wheel, dtype: int64 \n",
            "\n",
            "1.5 CVT Prestige                      28\n",
            "1.5 CVT Elite                         20\n",
            "1.5 X                                 12\n",
            "1.6 DCT Ultimate                      12\n",
            "1.5 MT Базовая                        10\n",
            "                                      ..\n",
            "C 180 BlueEFFICIENCY AT Avantgarde     1\n",
            "2.0 AT 4WD GLS                         1\n",
            "xDrive 20i AT M Sport Model            1\n",
            "1.6 EcoBoost AT 4WD Trend Plus         1\n",
            "1.5T CVT Luxury                        1\n",
            "Name: equipment, Length: 448, dtype: int64 \n",
            "\n"
          ]
        }
      ]
    },
    {
      "cell_type": "markdown",
      "source": [
        "В признаке equipment очень много уникальных значений. Не думаю, что он поможет правильно обучить модель - отбросим его."
      ],
      "metadata": {
        "id": "snLlPuJzj2W8"
      }
    },
    {
      "cell_type": "code",
      "source": [
        "cat_cols = ['transmission',\n",
        "            'drive_unit',\n",
        "            'color',\n",
        "            'steering_wheel']\n",
        "\n",
        "data = data[num_cols+cat_cols+[target]]"
      ],
      "metadata": {
        "id": "7wqbPoMeZxow"
      },
      "execution_count": 9,
      "outputs": []
    },
    {
      "cell_type": "markdown",
      "source": [
        "Также визуализируем полученный выше результат:"
      ],
      "metadata": {
        "id": "naN-dVZSZyQX"
      }
    },
    {
      "cell_type": "code",
      "source": [
        "plt.figure(figsize=(20, 5))\n",
        "\n",
        "for i, col in enumerate(num_cols):\n",
        "    plt.subplot(1, len(num_cols), i+1)\n",
        "    sns.histplot(data, x=col, bins=20)\n",
        "\n",
        "plt.show()"
      ],
      "metadata": {
        "colab": {
          "base_uri": "https://localhost:8080/",
          "height": 306
        },
        "id": "1y5OrCFZiI_d",
        "outputId": "7da94308-094d-400d-bf06-cedfc77d1f1c"
      },
      "execution_count": 10,
      "outputs": [
        {
          "output_type": "display_data",
          "data": {
            "text/plain": [
              "<Figure size 1440x360 with 4 Axes>"
            ],
            "image/png": "[encoded data removed]"
          },
          "metadata": {
            "needs_background": "light"
          }
        }
      ]
    },
    {
      "cell_type": "markdown",
      "source": [
        "Можно будет попробовать увеличить скор модели за счёт отбрасывания одного из **высокоскореллированных признаков**:"
      ],
      "metadata": {
        "id": "34Y8A4KbrOEv"
      }
    },
    {
      "cell_type": "code",
      "source": [
        "plt.figure(figsize=(6, 5))\n",
        "\n",
        "sns.heatmap(data[num_cols].corr())\n",
        "\n",
        "plt.show()"
      ],
      "metadata": {
        "colab": {
          "base_uri": "https://localhost:8080/",
          "height": 324
        },
        "id": "jFb4o8Ssrb1S",
        "outputId": "dd627c8b-cb8f-40cc-a783-0f5c7a1c0d42"
      },
      "execution_count": 33,
      "outputs": [
        {
          "output_type": "display_data",
          "data": {
            "text/plain": [
              "<Figure size 432x360 with 2 Axes>"
            ],
            "image/png": "[encoded data removed]"
          },
          "metadata": {
            "needs_background": "light"
          }
        }
      ]
    },
    {
      "cell_type": "markdown",
      "source": [
        "Видим, что данные имеют существенно разный масштаб $-$ далее нужно будет их отнормировать. Также следует подробнее изучить признак gen и его получение в процессе парсинга $-$ странно, что есть автомобили 100 поколения."
      ],
      "metadata": {
        "id": "3R7W26csjDO3"
      }
    },
    {
      "cell_type": "code",
      "source": [
        "plt.figure(figsize=(20, 5))\n",
        "\n",
        "for i , col in enumerate(cat_cols):\n",
        "    plt.subplot(1, len(cat_cols), i+1)\n",
        "    if col == 'color':\n",
        "        plt.xticks(rotation='vertical')\n",
        "    plt.bar(pd.Series(data[col].unique()).dropna(), data[col].value_counts())\n",
        "    plt.title(col)\n",
        "\n",
        "plt.show()"
      ],
      "metadata": {
        "colab": {
          "base_uri": "https://localhost:8080/",
          "height": 364
        },
        "id": "7iR-6As6j7RN",
        "outputId": "4758d7de-2499-4c88-9ab7-665fc6f2e53e"
      },
      "execution_count": 11,
      "outputs": [
        {
          "output_type": "display_data",
          "data": {
            "text/plain": [
              "<Figure size 1440x360 with 4 Axes>"
            ],
            "image/png": "[encoded data removed]"
          },
          "metadata": {
            "needs_background": "light"
          }
        }
      ]
    },
    {
      "cell_type": "markdown",
      "source": [
        "По категориальным признакам данные распределены не равномерно $-$ следует учесть это в дальнейшем."
      ],
      "metadata": {
        "id": "8AtQ_nx9mDSD"
      }
    },
    {
      "cell_type": "markdown",
      "source": [
        "Пока просто дропну NaN'ы:"
      ],
      "metadata": {
        "id": "DpQyr3LJm2Ao"
      }
    },
    {
      "cell_type": "code",
      "source": [
        "print(f\"Было: {data.shape}\")\n",
        "data = data.dropna()\n",
        "print(f\"Стало: {data.shape}\")\n",
        "\n",
        "y = data[target]\n",
        "data = data[num_cols+cat_cols]"
      ],
      "metadata": {
        "colab": {
          "base_uri": "https://localhost:8080/"
        },
        "id": "o2m8nWpLm9yE",
        "outputId": "de72dbc3-4ac4-4267-d14e-aa0927049da6"
      },
      "execution_count": 12,
      "outputs": [
        {
          "output_type": "stream",
          "name": "stdout",
          "text": [
            "Было: (2000, 9)\n",
            "Стало: (1643, 9)\n"
          ]
        }
      ]
    },
    {
      "cell_type": "markdown",
      "source": [
        "Так как мы решаем задачу регрессии, стоит отнормировать числовые признаки. Также закодируем категориальные признаки one-hot-encoding'ом. Напишем пайплайн для обработки данных:"
      ],
      "metadata": {
        "id": "wZcRpyI5VyHo"
      }
    },
    {
      "cell_type": "code",
      "source": [
        "from sklearn.model_selection import train_test_split\n",
        "from sklearn.preprocessing import StandardScaler, OneHotEncoder, FunctionTransformer\n",
        "from sklearn.pipeline import Pipeline, FeatureUnion"
      ],
      "metadata": {
        "id": "Q4xA7eopWCdy"
      },
      "execution_count": 13,
      "outputs": []
    },
    {
      "cell_type": "code",
      "source": [
        "def pipe(model):\n",
        "\n",
        "    scaler = StandardScaler()\n",
        "    ohe = OneHotEncoder()\n",
        "\n",
        "    # Пайплайн для числовых признаков\n",
        "    num_selector = FunctionTransformer(lambda data: data[num_cols], validate=False)\n",
        "    num_processor = Pipeline([('num_selector', num_selector), ('scaler', scaler)])\n",
        "\n",
        "    # Пайплайн для категориальных признаков\n",
        "    cat_selector = FunctionTransformer(lambda data: data[cat_cols], validate=False)\n",
        "    cat_processor = Pipeline  ([('cat_selector', cat_selector), ('ohe', ohe)])\n",
        "\n",
        "    # Объединяем пайплайн в итоговый\n",
        "    feature_union = FeatureUnion([('num_processor', num_processor), ('cat_processor', cat_processor)])\n",
        "    pipeline = Pipeline([('preprocessing', feature_union), ('modeling', model)])\n",
        "\n",
        "    return pipeline"
      ],
      "metadata": {
        "id": "MXNlxzjKd2cu"
      },
      "execution_count": 14,
      "outputs": []
    },
    {
      "cell_type": "code",
      "source": [
        "X_train, X_test, y_train, y_test = train_test_split(data, y, test_size=0.2, random_state=42)"
      ],
      "metadata": {
        "id": "C_w8L58Ql4z9"
      },
      "execution_count": 15,
      "outputs": []
    },
    {
      "cell_type": "markdown",
      "source": [
        "# Обучение моделей"
      ],
      "metadata": {
        "id": "j8XiDxtvavdo"
      }
    },
    {
      "cell_type": "code",
      "source": [
        "from sklearn.linear_model import LinearRegression, ElasticNet\n",
        "from sklearn.ensemble import GradientBoostingRegressor\n",
        "from sklearn.metrics import r2_score, mean_squared_error\n",
        "from sklearn.model_selection import GridSearchCV"
      ],
      "metadata": {
        "id": "wO6r-BDba9jg"
      },
      "execution_count": 16,
      "outputs": []
    },
    {
      "cell_type": "markdown",
      "source": [
        "**1. Линейная регрессия**"
      ],
      "metadata": {
        "id": "WUHpKfmOlWjr"
      }
    },
    {
      "cell_type": "code",
      "source": [
        "model = LinearRegression()\n",
        "pipe_1 = pipe(model)\n",
        "pipe_1.fit(X_train, y_train)\n",
        "\n",
        "y_pred = pipe_1.predict(X_test)\n",
        "print(f\"r2_score = {r2_score(y_test, y_pred)}\")"
      ],
      "metadata": {
        "colab": {
          "base_uri": "https://localhost:8080/"
        },
        "id": "9omkxnUglhsu",
        "outputId": "9dcf1c34-ef4d-474a-bca8-f8fd3791a489"
      },
      "execution_count": 34,
      "outputs": [
        {
          "output_type": "stream",
          "name": "stdout",
          "text": [
            "r2_score = 0.5743641681593581\n"
          ]
        }
      ]
    },
    {
      "cell_type": "markdown",
      "source": [
        "**2. Регрессия с регуляризацией**"
      ],
      "metadata": {
        "id": "_n1ez143rheb"
      }
    },
    {
      "cell_type": "code",
      "source": [
        "from sklearn.linear_model import ElasticNet"
      ],
      "metadata": {
        "id": "QhTpfTiUrldH"
      },
      "execution_count": 18,
      "outputs": []
    },
    {
      "cell_type": "code",
      "source": [
        "model = ElasticNet(random_state=42)\n",
        "\n",
        "params = {'modeling__alpha': np.linspace(0, 1, 11),\n",
        "          'modeling__l1_ratio': [0, 0.25, 0.5, 0.75, 1]}\n",
        "\n",
        "grid_search = GridSearchCV(estimator=pipe(model), param_grid=params, cv=5, n_jobs=-1)\n",
        "grid_search.fit(data, y)\n",
        "None"
      ],
      "metadata": {
        "id": "W_3IRxKnSpXQ"
      },
      "execution_count": 25,
      "outputs": []
    },
    {
      "cell_type": "code",
      "source": [
        "print(f\"Best score: {grid_search.best_score_}\")\n",
        "grid_search.best_params_"
      ],
      "metadata": {
        "colab": {
          "base_uri": "https://localhost:8080/"
        },
        "id": "uRMII7Z6oqAL",
        "outputId": "d0b34716-09b0-4ac6-d713-f6097b4fd790"
      },
      "execution_count": 20,
      "outputs": [
        {
          "output_type": "stream",
          "name": "stdout",
          "text": [
            "Best score: 0.5348873399012136\n"
          ]
        },
        {
          "output_type": "execute_result",
          "data": {
            "text/plain": [
              "{'modeling__alpha': 0.1, 'modeling__l1_ratio': 0.5}"
            ]
          },
          "metadata": {},
          "execution_count": 20
        }
      ]
    },
    {
      "cell_type": "markdown",
      "source": [
        "**3. Градиентный бустинг**"
      ],
      "metadata": {
        "id": "vFCDXP0Oqo5o"
      }
    },
    {
      "cell_type": "code",
      "source": [
        "model = GradientBoostingRegressor(random_state=42)\n",
        "\n",
        "params = {'modeling__learning_rate': [1e-1, 1e-2, 1e-3, 1e-4],\n",
        "          'modeling__n_estimators': [50, 100, 150, 200, 250],\n",
        "          'modeling__max_depth': np.arange(1, 6)}\n",
        "\n",
        "grid_search = GridSearchCV(estimator=pipe(model), param_grid=params, cv=5, n_jobs=-1)\n",
        "grid_search.fit(data, y)\n",
        "None"
      ],
      "metadata": {
        "id": "PCNIAZeTqsM6"
      },
      "execution_count": 28,
      "outputs": []
    },
    {
      "cell_type": "code",
      "source": [
        "print(f\"Best score: {grid_search.best_score_}\")\n",
        "grid_search.best_params_"
      ],
      "metadata": {
        "colab": {
          "base_uri": "https://localhost:8080/"
        },
        "id": "dRJVS4ZisllT",
        "outputId": "7ac10fdb-7d02-4203-a66f-2647f7c1cfd1"
      },
      "execution_count": 29,
      "outputs": [
        {
          "output_type": "stream",
          "name": "stdout",
          "text": [
            "Best score: 0.8967769130269735\n"
          ]
        },
        {
          "output_type": "execute_result",
          "data": {
            "text/plain": [
              "{'modeling__learning_rate': 0.1,\n",
              " 'modeling__max_depth': 5,\n",
              " 'modeling__n_estimators': 250}"
            ]
          },
          "metadata": {},
          "execution_count": 29
        }
      ]
    },
    {
      "cell_type": "markdown",
      "source": [
        "Градиентный бустинг выдал вполне хороший результат."
      ],
      "metadata": {
        "id": "2nnchIEur01o"
      }
    },
    {
      "cell_type": "markdown",
      "source": [
        "# Сравнение моделей"
      ],
      "metadata": {
        "id": "CgExW1LHa2y_"
      }
    },
    {
      "cell_type": "code",
      "source": [],
      "metadata": {
        "id": "nl8tYrHZtYy-"
      },
      "execution_count": null,
      "outputs": []
    }
  ]
}